{
 "cells": [
  {
   "cell_type": "code",
   "execution_count": 1,
   "metadata": {},
   "outputs": [],
   "source": [
    "import numpy as np\n",
    "from scipy.optimize import minimize\n",
    "import cvxpy as cp\n",
    "import scipy as scipy\n",
    "import cvxopt as cvxopt\n",
    "import matplotlib.pyplot as plt"
   ]
  },
  {
   "cell_type": "code",
   "execution_count": 2,
   "metadata": {},
   "outputs": [],
   "source": [
    "# c = composite score\n",
    "# x_equ = equity score\n",
    "# x_exc = excellence score\n",
    "# x_eff = efficiency score\n",
    "\n",
    "# ------------\n",
    "# The data we have™\n",
    "\n",
    "# assume composite scores as presented to the parents are actually 100 * normdist(value) where value\n",
    "# is the *actual* composite score generated from the linear combination 0.5 * equity score +\n",
    "# 0.25 * excellence score + 0.25 * efficiency score\n",
    "\n",
    "c_values = np.array([\n",
    "  -1.074496976,\n",
    "  -0.3985836646,\n",
    "  -1.202422179,\n",
    "  -0.480882516,\n",
    "  -0.5255513022,\n",
    "  0.0007519885541,\n",
    "  -0.4097354803,\n",
    "  -0.02256156841,\n",
    "  -0.6603955924,\n",
    "  -0.004511946208,\n",
    "  -0.4110989225,\n",
    "  -0.8302454899,\n",
    "  -1.350049828,\n",
    "  -0.4761044039,\n",
    "  -0.4421232789,\n",
    "  -0.6261752491,\n",
    "  -1.051563199,\n",
    "  -0.2422325171,\n",
    "  -0.02732564848,\n",
    "  -0.9944578841,\n",
    "  -0.03133798205,\n",
    "  -0.9303304822,\n",
    "  -1.16061132,\n",
    "  -0.2139321094,\n",
    "  -0.718904116,\n",
    "  -0.5455140798,\n",
    "  -0.3398094907,\n",
    "  0.01403757937,\n",
    "  -0.5175102729,\n",
    "  -0.2970871163,\n",
    "  -0.8628862699,\n",
    "  -0.5023803486,\n",
    "  -0.7891916518,\n",
    "  -0.3445934905,\n",
    "  -0.4393609736,\n",
    "  -0.239652063,\n",
    "  -0.2624169578,\n",
    "  -0.0002506628304,\n",
    "  -0.7153383447,\n",
    "  -0.1441272335,\n",
    "  -1.08572653,\n",
    "  -0.8473501158,\n",
    "  -1.011034329,\n",
    "  -0.6597722405,\n",
    "  -0.7854325535,\n",
    "  -0.4415705486,\n",
    "  -0.2502422673,\n",
    "  0.1206099341,\n",
    "  -1.087083296,\n",
    "  -0.6613311018,\n",
    "  -0.6520018176,\n",
    "  -0.7050164483,\n",
    "  -0.48172685,\n",
    "  -1.06472587,\n",
    "  -0.528143127,\n",
    "  -0.6912634442,\n",
    "  -0.6209994277,\n",
    "  -0.541446303,\n",
    "  -0.7312933356,\n",
    "  -0.04914969549,\n",
    "  -0.5819505353,\n",
    "  -0.9956916271,\n",
    "  0.04689112698,\n",
    "  -0.4127360629,\n",
    "  -0.4646250366,\n",
    "  -1.027893347,\n",
    "  0.2257446866,\n",
    "  -0.002506630902,\n",
    "  -0.05517380219,\n",
    "  -0.5571865188,\n",
    "  -0.5295845631,\n",
    "  -0.3589934354,\n",
    "  0.02908098648,\n",
    "  0.673545991,\n",
    "  0.0376082877,\n",
    "  0.1001817935,\n",
    "  -0.2650122821,\n",
    "  0.3065314995,\n",
    "  0.5232504184,\n",
    "  -0.07904101486,\n",
    "  1.397045132,\n",
    "  -0.1616264843,\n",
    "  -0.3791183234,\n",
    "  0.3078453653,\n",
    "  1.338909919,\n",
    "  -0.1464071288,\n",
    "  0.122125029,\n",
    "  -0.3366244794,\n",
    "  0.1436206922,\n",
    "  0.477227684,\n",
    "  0.6100933075,\n",
    "  -0.2095742227,\n",
    "  0.1160662962,\n",
    "  -0.5899860536,\n",
    "  -0.3360939769,\n",
    "  -0.2306329076,\n",
    "  -0.4083727993,\n",
    "  -0.6710322265,\n",
    "  -0.8923600067,\n",
    "  0.4357749781,\n",
    "])\n",
    "\n",
    "# we're given the *rank* for each school\n",
    "\n",
    "x_equ_ranks = np.array([6,32,4,70,49,33,41,27,38,44,71,45,5,62,30,35,10,57,91,43,47,11,0,63,7,23,36,55,94,84,1,16,9,17,37,34,54,64,14,42,24,68,2,40,20,59,39,61,15,29,46,8,13,3,18,53,74,19,58,50,22,12,73,48,76,79,99,26,56,67,66,65,52,78,87,96,51,98,97,72,100,82,89,83,60,95,93,92,77,75,81,85,86,90,21,31,80,25,28,69])\n",
    "x_exc_ranks = np.array([74,79,75,18,39,94,48,93,6,99,19,4,55,21,50,30,71,47,40,8,69,83,84,42,96,59,54,66,12,20,86,89,73,97,28,49,51,85,81,57,56,13,100,14,82,37,46,92,64,72,41,90,95,91,77,38,15,70,16,67,65,61,53,29,10,1,27,63,23,3,9,17,44,78,31,25,32,24,60,45,58,7,26,22,88,35,33,11,68,90,52,5,43,0,76,87,2,62,34,98])\n",
    "x_eff_ranks = np.array([35,31,40,17,25,88,36,93,80,34,22,44,56,24,81,54,29,42,16,18,76,27,68,53,48,74,55,77,0,15,90,52,71,70,83,91,39,19,41,86,3,2,30,65,10,21,82,33,14,11,12,60,63,32,58,5,7,72,13,75,46,38,64,69,23,4,28,99,95,47,37,49,94,96,67,57,87,89,85,50,62,84,1,97,100,6,59,9,51,92,98,73,66,20,79,61,45,26,43,78])\n",
    "\n",
    "n = len(c_values)"
   ]
  },
  {
   "cell_type": "code",
   "execution_count": 3,
   "metadata": {},
   "outputs": [
    {
     "data": {
      "text/plain": [
       "array([22, 30, 42, 53,  2, 12,  0, 24, 51, 32, 16, 21, 61, 52, 38, 48, 31,\n",
       "       33, 54, 57, 44, 94, 60, 25, 40, 97, 67,  7, 98, 49, 14, 95,  1,  5,\n",
       "       35, 15, 26, 34,  8, 46, 43,  6, 39, 19,  9, 11, 50, 20, 63,  4, 59,\n",
       "       76, 72, 55, 36, 27, 68, 17, 58, 45, 84, 47, 13, 23, 37, 71, 70, 69,\n",
       "       41, 99,  3, 10, 79, 62, 56, 89, 64, 88, 73, 65, 96, 90, 81, 83, 29,\n",
       "       91, 92, 74, 82, 93, 18, 87, 86, 28, 85, 75, 78, 77, 66, 80])"
      ]
     },
     "execution_count": 3,
     "metadata": {},
     "output_type": "execute_result"
    }
   ],
   "source": [
    "np.argsort(x_equ_ranks)"
   ]
  },
  {
   "cell_type": "code",
   "execution_count": 4,
   "metadata": {},
   "outputs": [],
   "source": [
    "# fix the issue with the gap in the ranks\n",
    "x_equ_gap_loc = np.argmax(np.diff(np.sort(x_equ_ranks))) # where does the gap occur\n",
    "x_equ_ranks = np.where(\n",
    "    x_equ_ranks <= x_equ_gap_loc,\n",
    "    x_equ_ranks,\n",
    "    x_equ_ranks - 1,\n",
    ")\n",
    "\n",
    "x_exc_gap_loc = np.argmax(np.diff(np.sort(x_exc_ranks)))  # where does the gap occur\n",
    "x_exc_ranks = np.where(\n",
    "    x_exc_ranks <= x_exc_gap_loc,\n",
    "    x_exc_ranks,\n",
    "    x_exc_ranks - 1,\n",
    ")\n",
    "\n",
    "x_eff_gap_loc = np.argmax(np.diff(np.sort(x_eff_ranks)))  # where does the gap occur\n",
    "x_eff_ranks = np.where(\n",
    "    x_eff_ranks <= x_eff_gap_loc,\n",
    "    x_eff_ranks,\n",
    "    x_eff_ranks - 1,\n",
    ")"
   ]
  },
  {
   "cell_type": "code",
   "execution_count": 5,
   "metadata": {},
   "outputs": [],
   "source": [
    "x_equ = cp.Variable(shape=n)\n",
    "x_exc = cp.Variable(shape=n)\n",
    "x_eff = cp.Variable(shape=n)"
   ]
  },
  {
   "cell_type": "code",
   "execution_count": 6,
   "metadata": {},
   "outputs": [],
   "source": [
    "# quadratic objective function\n",
    "obj = cp.Minimize(\n",
    "    0.5 * cp.sum_squares(0.5 * x_equ + 0.25 * x_exc + 0.25 * x_eff - c_values)\n",
    ")\n",
    "\n",
    "# inequality constraints\n",
    "# eg: x_equ[6] >= x_equ[32] ->  -G[0, 6] + G_equ[0, 32] <= h_equ[0] = epsilon\n",
    "G_equ = np.zeros((n - 1, n))\n",
    "x_equ_ranks_idx = np.argsort(x_equ_ranks)[::-1]\n",
    "for row, (col1, col2) in enumerate(zip(x_equ_ranks_idx[:-1], x_equ_ranks_idx[1:])):\n",
    "    G_equ[row, col1] = -1\n",
    "    G_equ[row, col2] = 1\n",
    "\n",
    "G_exc = np.zeros((n - 1, n))\n",
    "x_exc_ranks_idx = np.argsort(x_exc_ranks)[::-1]\n",
    "for row, (col1, col2) in enumerate(zip(x_exc_ranks_idx[:-1], x_exc_ranks_idx[1:])):\n",
    "    G_exc[row, col1] = -1\n",
    "    G_exc[row, col2] = 1\n",
    "\n",
    "G_eff = np.zeros((n - 1, n))\n",
    "x_eff_ranks_idx = np.argsort(x_eff_ranks)[::-1]\n",
    "for row, (col1, col2) in enumerate(zip(x_eff_ranks_idx[:-1], x_eff_ranks_idx[1:])):\n",
    "    G_eff[row, col1] = -1\n",
    "    G_eff[row, col2] = 1"
   ]
  },
  {
   "cell_type": "code",
   "execution_count": 7,
   "metadata": {},
   "outputs": [
    {
     "name": "stdout",
     "output_type": "stream",
     "text": [
      "\n",
      "The optimal value is 8.876317614151279e-14\n"
     ]
    }
   ],
   "source": [
    "# CVX Problem\n",
    "\n",
    "epsilon = -0.00001\n",
    "h = np.full(n - 1, epsilon)\n",
    "\n",
    "prob = cp.Problem(\n",
    "    obj,\n",
    "    [\n",
    "        G_equ @ x_equ <= h,\n",
    "        G_exc @ x_exc <= h,\n",
    "        G_eff @ x_eff <= h,\n",
    "    ],\n",
    ")\n",
    "\n",
    "prob.solve()\n",
    "print(\"\\nThe optimal value is\", prob.value)"
   ]
  },
  {
   "cell_type": "code",
   "execution_count": 8,
   "metadata": {},
   "outputs": [
    {
     "data": {
      "text/plain": [
       "'optimal'"
      ]
     },
     "execution_count": 8,
     "metadata": {},
     "output_type": "execute_result"
    }
   ],
   "source": [
    "prob.status"
   ]
  },
  {
   "cell_type": "code",
   "execution_count": 9,
   "metadata": {},
   "outputs": [
    {
     "data": {
      "image/png": "[encoded data removed]",
      "text/plain": [
       "<Figure size 640x480 with 1 Axes>"
      ]
     },
     "metadata": {},
     "output_type": "display_data"
    }
   ],
   "source": [
    "plt.hist(x_equ.value, bins=\"auto\");"
   ]
  },
  {
   "cell_type": "code",
   "execution_count": 10,
   "metadata": {},
   "outputs": [
    {
     "data": {
      "text/plain": [
       "(array([ 2.,  7.,  8., 22., 10., 22., 13., 16.]),\n",
       " array([-2.94115118, -2.37680502, -1.81245886, -1.24811269, -0.68376653,\n",
       "        -0.11942037,  0.44492579,  1.00927195,  1.57361811]),\n",
       " <BarContainer object of 8 artists>)"
      ]
     },
     "execution_count": 10,
     "metadata": {},
     "output_type": "execute_result"
    },
    {
     "data": {
      "image/png": "[encoded data removed]",
      "text/plain": [
       "<Figure size 640x480 with 1 Axes>"
      ]
     },
     "metadata": {},
     "output_type": "display_data"
    }
   ],
   "source": [
    "plt.hist(x_exc.value, bins=\"auto\")"
   ]
  },
  {
   "cell_type": "code",
   "execution_count": 11,
   "metadata": {},
   "outputs": [
    {
     "data": {
      "text/plain": [
       "(array([ 5.,  2.,  7.,  6., 20., 21., 17., 14.,  1.,  1.,  3.,  1.,  1.,\n",
       "         0.,  0.,  0.,  0.,  0.,  0.,  1.]),\n",
       " array([-2.06560365, -1.73918463, -1.41276561, -1.08634659, -0.75992757,\n",
       "        -0.43350855, -0.10708953,  0.21932949,  0.54574851,  0.87216753,\n",
       "         1.19858655,  1.52500557,  1.85142459,  2.17784361,  2.50426263,\n",
       "         2.83068165,  3.15710067,  3.48351969,  3.80993871,  4.13635773,\n",
       "         4.46277675]),\n",
       " <BarContainer object of 20 artists>)"
      ]
     },
     "execution_count": 11,
     "metadata": {},
     "output_type": "execute_result"
    },
    {
     "data": {
      "image/png": "[encoded data removed]",
      "text/plain": [
       "<Figure size 640x480 with 1 Axes>"
      ]
     },
     "metadata": {},
     "output_type": "display_data"
    }
   ],
   "source": [
    "plt.hist(x_eff.value, bins=\"auto\")"
   ]
  },
  {
   "cell_type": "code",
   "execution_count": 12,
   "metadata": {},
   "outputs": [
    {
     "data": {
      "text/plain": [
       "array([-7.91599937e-08, -2.80564125e-08, -8.24806075e-08, -4.23012202e-08,\n",
       "       -3.85176026e-08,  2.62800127e-09, -3.28296337e-08,  1.44941491e-09,\n",
       "       -4.99907032e-08,  1.20414890e-09, -3.75110569e-08, -5.73978707e-08,\n",
       "       -8.45813979e-08, -3.43297722e-08, -3.35127632e-08, -4.65520723e-08,\n",
       "       -7.18246262e-08, -1.45520182e-08, -6.80160541e-09, -6.86442742e-08,\n",
       "       -2.07589230e-09, -6.35261010e-08, -7.31297791e-08, -9.35653208e-09,\n",
       "       -5.93344864e-08, -3.78871559e-08, -2.64218178e-08,  4.94310464e-09,\n",
       "       -3.16395611e-08, -2.72738177e-08, -6.03960375e-08, -3.84193299e-08,\n",
       "       -6.01956323e-08, -2.74119776e-08, -3.45309163e-08, -1.86116807e-08,\n",
       "       -1.88341914e-08,  1.83571798e-09, -5.29500952e-08, -6.43673986e-09,\n",
       "       -7.26206828e-08, -5.72071673e-08, -7.79832143e-08, -4.32178815e-08,\n",
       "       -5.67824028e-08, -2.60055630e-08, -2.06126884e-08,  1.79063694e-08,\n",
       "       -7.30307470e-08, -5.02168837e-08, -4.74180732e-08, -5.13357763e-08,\n",
       "       -3.62858485e-08, -7.77985310e-08, -3.90363402e-08, -5.05438080e-08,\n",
       "       -4.96337867e-08, -3.88214054e-08, -4.65506971e-08, -1.22908626e-09,\n",
       "       -4.44405008e-08, -6.86472929e-08,  7.49219860e-09, -2.90803877e-08,\n",
       "       -3.98197993e-08, -5.73517929e-08,  1.78497862e-08, -5.13321684e-09,\n",
       "       -3.64281228e-09, -4.10256846e-08, -3.87093967e-08, -2.86122061e-08,\n",
       "        1.94370338e-09,  4.96243956e-08,  5.70031122e-09,  1.19148918e-08,\n",
       "       -1.97153895e-08,  3.46837304e-08,  5.11583859e-08, -7.00420755e-09,\n",
       "        5.57340500e-08, -1.20674189e-08, -3.10992773e-08,  2.18838599e-08,\n",
       "        5.65000580e-08, -1.15316582e-08,  1.29484895e-08, -3.03260795e-08,\n",
       "        1.37011230e-08,  4.59431046e-08,  4.12989465e-08, -1.44867152e-08,\n",
       "        1.36852465e-08, -3.41929540e-08, -2.91923599e-08, -1.02795099e-08,\n",
       "       -3.28676149e-08, -5.05745569e-08, -6.07137686e-08,  3.26342026e-08])"
      ]
     },
     "execution_count": 12,
     "metadata": {},
     "output_type": "execute_result"
    }
   ],
   "source": [
    "0.5 * x_equ.value + 0.25 * x_exc.value + 0.25 * x_eff.value - c_values"
   ]
  },
  {
   "cell_type": "code",
   "execution_count": null,
   "metadata": {},
   "outputs": [],
   "source": []
  }
 ],
 "metadata": {
  "kernelspec": {
   "display_name": "sfusd",
   "language": "python",
   "name": "python3"
  },
  "language_info": {
   "codemirror_mode": {
    "name": "ipython",
    "version": 3
   },
   "file_extension": ".py",
   "mimetype": "text/x-python",
   "name": "python",
   "nbconvert_exporter": "python",
   "pygments_lexer": "ipython3",
   "version": "3.11.4"
  }
 },
 "nbformat": 4,
 "nbformat_minor": 2
}
